{
 "cells": [
  {
   "cell_type": "markdown",
   "id": "1b983c0a-56ca-484b-ad2a-3c51ae2d382a",
   "metadata": {},
   "source": [
    "# Section 1: Introduction and preparing your data"
   ]
  },
  {
   "cell_type": "code",
   "execution_count": 2,
   "id": "d10abe84-8e8c-4df1-8814-6a074920806b",
   "metadata": {},
   "outputs": [
    {
     "data": {
      "text/html": [
       "<div>\n",
       "<style scoped>\n",
       "    .dataframe tbody tr th:only-of-type {\n",
       "        vertical-align: middle;\n",
       "    }\n",
       "\n",
       "    .dataframe tbody tr th {\n",
       "        vertical-align: top;\n",
       "    }\n",
       "\n",
       "    .dataframe thead th {\n",
       "        text-align: right;\n",
       "    }\n",
       "</style>\n",
       "<table border=\"1\" class=\"dataframe\">\n",
       "  <thead>\n",
       "    <tr style=\"text-align: right;\">\n",
       "      <th></th>\n",
       "      <th>Unnamed: 0</th>\n",
       "      <th>Time</th>\n",
       "      <th>V1</th>\n",
       "      <th>V2</th>\n",
       "      <th>V3</th>\n",
       "      <th>V4</th>\n",
       "      <th>V5</th>\n",
       "      <th>V6</th>\n",
       "      <th>V7</th>\n",
       "      <th>V8</th>\n",
       "      <th>...</th>\n",
       "      <th>V21</th>\n",
       "      <th>V22</th>\n",
       "      <th>V23</th>\n",
       "      <th>V24</th>\n",
       "      <th>V25</th>\n",
       "      <th>V26</th>\n",
       "      <th>V27</th>\n",
       "      <th>V28</th>\n",
       "      <th>Amount</th>\n",
       "      <th>Class</th>\n",
       "    </tr>\n",
       "  </thead>\n",
       "  <tbody>\n",
       "    <tr>\n",
       "      <th>0</th>\n",
       "      <td>0</td>\n",
       "      <td>64</td>\n",
       "      <td>1.212511</td>\n",
       "      <td>-0.099054</td>\n",
       "      <td>-1.192094</td>\n",
       "      <td>0.286324</td>\n",
       "      <td>2.160516</td>\n",
       "      <td>3.616314</td>\n",
       "      <td>-0.404207</td>\n",
       "      <td>0.842331</td>\n",
       "      <td>...</td>\n",
       "      <td>-0.167496</td>\n",
       "      <td>-0.494695</td>\n",
       "      <td>-0.149785</td>\n",
       "      <td>1.011227</td>\n",
       "      <td>0.883548</td>\n",
       "      <td>-0.329434</td>\n",
       "      <td>0.020370</td>\n",
       "      <td>0.017037</td>\n",
       "      <td>34.70</td>\n",
       "      <td>0</td>\n",
       "    </tr>\n",
       "    <tr>\n",
       "      <th>1</th>\n",
       "      <td>1</td>\n",
       "      <td>64</td>\n",
       "      <td>-0.658305</td>\n",
       "      <td>0.406791</td>\n",
       "      <td>2.037461</td>\n",
       "      <td>-0.291298</td>\n",
       "      <td>0.147910</td>\n",
       "      <td>-0.350857</td>\n",
       "      <td>0.945373</td>\n",
       "      <td>-0.172560</td>\n",
       "      <td>...</td>\n",
       "      <td>-0.156096</td>\n",
       "      <td>-0.238805</td>\n",
       "      <td>0.089877</td>\n",
       "      <td>0.421195</td>\n",
       "      <td>-0.352487</td>\n",
       "      <td>0.074783</td>\n",
       "      <td>-0.094192</td>\n",
       "      <td>-0.092493</td>\n",
       "      <td>54.99</td>\n",
       "      <td>0</td>\n",
       "    </tr>\n",
       "    <tr>\n",
       "      <th>2</th>\n",
       "      <td>2</td>\n",
       "      <td>124</td>\n",
       "      <td>1.105253</td>\n",
       "      <td>0.541842</td>\n",
       "      <td>0.839421</td>\n",
       "      <td>2.570933</td>\n",
       "      <td>-0.279517</td>\n",
       "      <td>-0.423062</td>\n",
       "      <td>0.088019</td>\n",
       "      <td>0.011622</td>\n",
       "      <td>...</td>\n",
       "      <td>-0.137434</td>\n",
       "      <td>-0.460991</td>\n",
       "      <td>0.189397</td>\n",
       "      <td>0.556329</td>\n",
       "      <td>0.185786</td>\n",
       "      <td>-0.189030</td>\n",
       "      <td>0.000208</td>\n",
       "      <td>0.026167</td>\n",
       "      <td>6.24</td>\n",
       "      <td>0</td>\n",
       "    </tr>\n",
       "    <tr>\n",
       "      <th>3</th>\n",
       "      <td>3</td>\n",
       "      <td>128</td>\n",
       "      <td>1.239495</td>\n",
       "      <td>-0.182609</td>\n",
       "      <td>0.155058</td>\n",
       "      <td>-0.928892</td>\n",
       "      <td>-0.746227</td>\n",
       "      <td>-1.235608</td>\n",
       "      <td>-0.061695</td>\n",
       "      <td>-0.125223</td>\n",
       "      <td>...</td>\n",
       "      <td>0.146077</td>\n",
       "      <td>0.481119</td>\n",
       "      <td>-0.140019</td>\n",
       "      <td>0.538261</td>\n",
       "      <td>0.710720</td>\n",
       "      <td>-0.621382</td>\n",
       "      <td>0.036867</td>\n",
       "      <td>0.010963</td>\n",
       "      <td>8.80</td>\n",
       "      <td>0</td>\n",
       "    </tr>\n",
       "    <tr>\n",
       "      <th>4</th>\n",
       "      <td>4</td>\n",
       "      <td>132</td>\n",
       "      <td>-1.571359</td>\n",
       "      <td>1.687508</td>\n",
       "      <td>0.734670</td>\n",
       "      <td>1.293350</td>\n",
       "      <td>-0.217532</td>\n",
       "      <td>-0.002677</td>\n",
       "      <td>0.147364</td>\n",
       "      <td>0.515362</td>\n",
       "      <td>...</td>\n",
       "      <td>0.048549</td>\n",
       "      <td>0.377256</td>\n",
       "      <td>-0.030436</td>\n",
       "      <td>0.117608</td>\n",
       "      <td>-0.060520</td>\n",
       "      <td>-0.296550</td>\n",
       "      <td>-0.481570</td>\n",
       "      <td>-0.167897</td>\n",
       "      <td>10.00</td>\n",
       "      <td>0</td>\n",
       "    </tr>\n",
       "  </tbody>\n",
       "</table>\n",
       "<p>5 rows × 32 columns</p>\n",
       "</div>"
      ],
      "text/plain": [
       "   Unnamed: 0  Time        V1        V2        V3        V4        V5  \\\n",
       "0           0    64  1.212511 -0.099054 -1.192094  0.286324  2.160516   \n",
       "1           1    64 -0.658305  0.406791  2.037461 -0.291298  0.147910   \n",
       "2           2   124  1.105253  0.541842  0.839421  2.570933 -0.279517   \n",
       "3           3   128  1.239495 -0.182609  0.155058 -0.928892 -0.746227   \n",
       "4           4   132 -1.571359  1.687508  0.734670  1.293350 -0.217532   \n",
       "\n",
       "         V6        V7        V8  ...       V21       V22       V23       V24  \\\n",
       "0  3.616314 -0.404207  0.842331  ... -0.167496 -0.494695 -0.149785  1.011227   \n",
       "1 -0.350857  0.945373 -0.172560  ... -0.156096 -0.238805  0.089877  0.421195   \n",
       "2 -0.423062  0.088019  0.011622  ... -0.137434 -0.460991  0.189397  0.556329   \n",
       "3 -1.235608 -0.061695 -0.125223  ...  0.146077  0.481119 -0.140019  0.538261   \n",
       "4 -0.002677  0.147364  0.515362  ...  0.048549  0.377256 -0.030436  0.117608   \n",
       "\n",
       "        V25       V26       V27       V28  Amount  Class  \n",
       "0  0.883548 -0.329434  0.020370  0.017037   34.70      0  \n",
       "1 -0.352487  0.074783 -0.094192 -0.092493   54.99      0  \n",
       "2  0.185786 -0.189030  0.000208  0.026167    6.24      0  \n",
       "3  0.710720 -0.621382  0.036867  0.010963    8.80      0  \n",
       "4 -0.060520 -0.296550 -0.481570 -0.167897   10.00      0  \n",
       "\n",
       "[5 rows x 32 columns]"
      ]
     },
     "execution_count": 2,
     "metadata": {},
     "output_type": "execute_result"
    }
   ],
   "source": [
    "import pandas as pd\n",
    "df = pd.read_csv(r\"creditcard_sampledata.csv\")\n",
    "df.head()"
   ]
  },
  {
   "cell_type": "code",
   "execution_count": 4,
   "id": "9537f398-4f42-424a-816b-297716ea4580",
   "metadata": {},
   "outputs": [
    {
     "name": "stdout",
     "output_type": "stream",
     "text": [
      "<class 'pandas.core.frame.DataFrame'>\n",
      "RangeIndex: 8000 entries, 0 to 7999\n",
      "Data columns (total 32 columns):\n",
      " #   Column      Non-Null Count  Dtype  \n",
      "---  ------      --------------  -----  \n",
      " 0   Unnamed: 0  8000 non-null   int64  \n",
      " 1   Time        8000 non-null   int64  \n",
      " 2   V1          8000 non-null   float64\n",
      " 3   V2          8000 non-null   float64\n",
      " 4   V3          8000 non-null   float64\n",
      " 5   V4          8000 non-null   float64\n",
      " 6   V5          8000 non-null   float64\n",
      " 7   V6          8000 non-null   float64\n",
      " 8   V7          8000 non-null   float64\n",
      " 9   V8          8000 non-null   float64\n",
      " 10  V9          8000 non-null   float64\n",
      " 11  V10         8000 non-null   float64\n",
      " 12  V11         8000 non-null   float64\n",
      " 13  V12         8000 non-null   float64\n",
      " 14  V13         8000 non-null   float64\n",
      " 15  V14         8000 non-null   float64\n",
      " 16  V15         8000 non-null   float64\n",
      " 17  V16         8000 non-null   float64\n",
      " 18  V17         8000 non-null   float64\n",
      " 19  V18         8000 non-null   float64\n",
      " 20  V19         8000 non-null   float64\n",
      " 21  V20         8000 non-null   float64\n",
      " 22  V21         8000 non-null   float64\n",
      " 23  V22         8000 non-null   float64\n",
      " 24  V23         8000 non-null   float64\n",
      " 25  V24         8000 non-null   float64\n",
      " 26  V25         8000 non-null   float64\n",
      " 27  V26         8000 non-null   float64\n",
      " 28  V27         8000 non-null   float64\n",
      " 29  V28         8000 non-null   float64\n",
      " 30  Amount      8000 non-null   float64\n",
      " 31  Class       8000 non-null   int64  \n",
      "dtypes: float64(29), int64(3)\n",
      "memory usage: 2.0 MB\n"
     ]
    }
   ],
   "source": [
    "df.info()"
   ]
  },
  {
   "cell_type": "code",
   "execution_count": 6,
   "id": "f26b9642-daea-4740-b01a-4eb07c50cd1e",
   "metadata": {},
   "outputs": [
    {
     "data": {
      "text/plain": [
       "Class\n",
       "0    7983\n",
       "1      17\n",
       "Name: count, dtype: int64"
      ]
     },
     "execution_count": 6,
     "metadata": {},
     "output_type": "execute_result"
    }
   ],
   "source": [
    "# Count the occurrences of fraud and no fraud and print them\n",
    "\n",
    "occ = df['Class'].value_counts()\n",
    "occ"
   ]
  },
  {
   "cell_type": "code",
   "execution_count": 8,
   "id": "9646a953-2533-4ed7-b186-11a046c14215",
   "metadata": {},
   "outputs": [
    {
     "name": "stdout",
     "output_type": "stream",
     "text": [
      "Class\n",
      "0    99.7875\n",
      "1     0.2125\n",
      "Name: count, dtype: float64\n"
     ]
    }
   ],
   "source": [
    "print(100*occ/df.shape[0])"
   ]
  },
  {
   "cell_type": "code",
   "execution_count": 10,
   "id": "68b6c4f1-c496-4f4a-a6fb-23e5d37dbd18",
   "metadata": {},
   "outputs": [],
   "source": [
    "# Plotting Data\n",
    "\n",
    "import numpy as np\n",
    "import matplotlib.pyplot as plt\n",
    "import seaborn as sns"
   ]
  },
  {
   "cell_type": "code",
   "execution_count": 11,
   "id": "2dde74e2-8501-44d6-9686-36618b33c310",
   "metadata": {},
   "outputs": [],
   "source": [
    "def plot_data(X,y):\n",
    "    plt.scatter( X[ y == 0, 0], X[ y == 0, 1],label = 'Class #0', alpha = 0.5, linewidth = 0.15 )\n",
    "    plt.scatter( X[ y == 1, 0], X[ y == 1, 1],label = 'Class #1', alpha = 0.5, linewidth = 0.15 , c = 'r')\n",
    "    plt.legend()\n",
    "\n",
    "    return plt.show()"
   ]
  },
  {
   "cell_type": "code",
   "execution_count": 14,
   "id": "98e1840a-39dc-4567-8840-6b5be3284e39",
   "metadata": {},
   "outputs": [
    {
     "data": {
      "image/png": "[encoded data removed]",
      "text/plain": [
       "<Figure size 640x480 with 1 Axes>"
      ]
     },
     "metadata": {},
     "output_type": "display_data"
    }
   ],
   "source": [
    "# Create and plot X and y from the prep_data function \n",
    "\n",
    "def prep_data(df: pd.DataFrame):\n",
    "    \"\"\"\n",
    "    Convert the DataFrame into two variable\n",
    "    X: data columns (V1 - V28)\n",
    "    y: lable column\n",
    "    \"\"\"\n",
    "    X = df.iloc[:, 2:30].values\n",
    "    y = df.Class.values\n",
    "    return X, y\n",
    "\n",
    "X, y = prep_data(df)\n",
    "\n",
    "plot_data(X,y)"
   ]
  },
  {
   "cell_type": "raw",
   "id": "b8077494-8b1b-4886-b15f-b3c0ce681ad3",
   "metadata": {},
   "source": [
    "# Increase successful detections using data resampling"
   ]
  },
  {
   "cell_type": "code",
   "execution_count": 16,
   "id": "f0d84042-284b-4d81-8dbf-4f7f084cdd21",
   "metadata": {},
   "outputs": [
    {
     "data": {
      "image/png": "[encoded data removed]",
      "text/plain": [
       "<Figure size 640x480 with 1 Axes>"
      ]
     },
     "metadata": {},
     "output_type": "display_data"
    }
   ],
   "source": [
    "# Oversampling\n",
    "\n",
    "from imblearn.over_sampling import RandomOverSampler\n",
    "\n",
    "method = RandomOverSampler()\n",
    "\n",
    "X_resampled, y_resampled = method.fit_resample(X,y)\n",
    "\n",
    "plot_data(X_resampled, y_resampled)"
   ]
  },
  {
   "cell_type": "raw",
   "id": "79a5c7ad-856b-4676-89f4-79a45c6c1ab7",
   "metadata": {},
   "source": [
    "# Synthetic Minority Oversampling Technique (SMOTE)\n",
    "\n",
    "Instead of copying the minority class values, it uses info from near neightboards from fraud\n",
    "cases to create new synthetic cases.\n",
    "\n",
    "It´s useful when having similar fraud cases, otherwise it creates noise in the data\n",
    "\n",
    "\n",
    "# When to use resampling methods?\n",
    "\n",
    "Only resample in your trainig set"
   ]
  },
  {
   "cell_type": "code",
   "execution_count": 18,
   "id": "c0046452-ef9b-43c6-8f95-d973b4771695",
   "metadata": {},
   "outputs": [
    {
     "name": "stdout",
     "output_type": "stream",
     "text": [
      "              precision    recall  f1-score   support\n",
      "\n",
      "           0       1.00      0.96      0.98      1596\n",
      "           1       0.03      0.50      0.05         4\n",
      "\n",
      "    accuracy                           0.96      1600\n",
      "   macro avg       0.51      0.73      0.52      1600\n",
      "weighted avg       1.00      0.96      0.98      1600\n",
      "\n"
     ]
    }
   ],
   "source": [
    "# Example:\n",
    "\n",
    "from sklearn.model_selection import train_test_split\n",
    "from sklearn.linear_model import LogisticRegression\n",
    "from imblearn.over_sampling import SMOTE\n",
    "from sklearn.metrics import classification_report\n",
    "import os\n",
    "\n",
    "# Setting number of physical cores\n",
    "os.environ['OMP_NUM_THREADS'] = '1'\n",
    "\n",
    "# Define resampling method and split into train and test\n",
    "\n",
    "method = SMOTE()\n",
    "\n",
    "X_train, X_test, y_train, y_test = train_test_split(\n",
    "    X, y,\n",
    "    train_size = 0.8,\n",
    "    random_state = 1\n",
    ")\n",
    "\n",
    "# Apply resampling to train data only\n",
    "\n",
    "X_resampled, y_resampled = method.fit_resample(X_train, y_train)\n",
    "\n",
    "# Continue fitting the model and obtain predictions \n",
    "\n",
    "model = LogisticRegression()\n",
    "model.fit(X_resampled, y_resampled)\n",
    "\n",
    "# Get performance metrics\n",
    "\n",
    "predicted = model.predict(X_test)\n",
    "\n",
    "print(classification_report(y_test, predicted))"
   ]
  },
  {
   "cell_type": "code",
   "execution_count": 20,
   "id": "7ec3aa62-2c17-4e18-89c0-18e95cfc219e",
   "metadata": {},
   "outputs": [
    {
     "name": "stdout",
     "output_type": "stream",
     "text": [
      "0.3583495687182846\n"
     ]
    }
   ],
   "source": [
    "# Simple steps to refresh ML models\n",
    "from sklearn.metrics import r2_score\n",
    "from sklearn.linear_model import LinearRegression\n",
    "\n",
    "# Step 1: split your features and labels into train and test data\n",
    "X_train, X_test, y_train, y_test = train_test_split(X, y, test_size = 0.2)\n",
    "\n",
    "# Step 2: Define which model you want to use\n",
    "model = LinearRegression()\n",
    "\n",
    "#Step 3: Fit the model to your training data\n",
    "model.fit(X_train, y_train)\n",
    "\n",
    "# Obtain model predictions from your test data\n",
    "y_predicted = model.predict(X_test)\n",
    "\n",
    "# Step 5: Compare y_test to predictions and obtain performance metrics\n",
    "print(r2_score(y_test, y_predicted))"
   ]
  },
  {
   "cell_type": "raw",
   "id": "28ce3f37-94d1-4b81-b6e4-6e0828da129f",
   "metadata": {},
   "source": [
    "# Exploring traditional way to catch fraud"
   ]
  },
  {
   "cell_type": "code",
   "execution_count": 22,
   "id": "385225aa-b4d7-446e-a9a8-1e90539dd465",
   "metadata": {},
   "outputs": [
    {
     "data": {
      "text/html": [
       "<div>\n",
       "<style scoped>\n",
       "    .dataframe tbody tr th:only-of-type {\n",
       "        vertical-align: middle;\n",
       "    }\n",
       "\n",
       "    .dataframe tbody tr th {\n",
       "        vertical-align: top;\n",
       "    }\n",
       "\n",
       "    .dataframe thead th {\n",
       "        text-align: right;\n",
       "    }\n",
       "</style>\n",
       "<table border=\"1\" class=\"dataframe\">\n",
       "  <thead>\n",
       "    <tr style=\"text-align: right;\">\n",
       "      <th>Flagged Fraud</th>\n",
       "      <th>0</th>\n",
       "      <th>1</th>\n",
       "    </tr>\n",
       "    <tr>\n",
       "      <th>Actual Fraud</th>\n",
       "      <th></th>\n",
       "      <th></th>\n",
       "    </tr>\n",
       "  </thead>\n",
       "  <tbody>\n",
       "    <tr>\n",
       "      <th>0</th>\n",
       "      <td>7949</td>\n",
       "      <td>34</td>\n",
       "    </tr>\n",
       "    <tr>\n",
       "      <th>1</th>\n",
       "      <td>13</td>\n",
       "      <td>4</td>\n",
       "    </tr>\n",
       "  </tbody>\n",
       "</table>\n",
       "</div>"
      ],
      "text/plain": [
       "Flagged Fraud     0   1\n",
       "Actual Fraud           \n",
       "0              7949  34\n",
       "1                13   4"
      ]
     },
     "execution_count": 22,
     "metadata": {},
     "output_type": "execute_result"
    }
   ],
   "source": [
    "# Get the mean for each group\n",
    "# grouped = df.groupby('Class').mean().reset_index()\n",
    "\n",
    "# Implement a rule for stating which cases are catched as fraud\n",
    "df['flag_as_fraud'] = np.where(np.logical_and(df['V1'] < -3, df['V3'] < -5), 1, 0)\n",
    "\n",
    "# Create aas crosstab of flagged fraud cases vs the actual fraud cases\n",
    "\n",
    "comparison = pd.crosstab(\n",
    "    df['Class'],\n",
    "    df['flag_as_fraud'],\n",
    "    rownames = ['Actual Fraud'],\n",
    "    colnames = ['Flagged Fraud']\n",
    ")\n",
    "comparison"
   ]
  },
  {
   "cell_type": "raw",
   "id": "a32eff1f-266f-4481-bad8-f748670bb592",
   "metadata": {},
   "source": [
    "# Using ML classification to catch fraud"
   ]
  },
  {
   "cell_type": "code",
   "execution_count": 24,
   "id": "9ca30010-f987-4b82-afe4-42b32989cbe3",
   "metadata": {},
   "outputs": [
    {
     "name": "stdout",
     "output_type": "stream",
     "text": [
      "Classification report: \n",
      "               precision    recall  f1-score   support\n",
      "\n",
      "           0       1.00      1.00      1.00      2630\n",
      "           1       1.00      0.30      0.46        10\n",
      "\n",
      "    accuracy                           1.00      2640\n",
      "   macro avg       1.00      0.65      0.73      2640\n",
      "weighted avg       1.00      1.00      1.00      2640\n",
      "\n",
      "Confussion Matrix: \n",
      " [[2630    0]\n",
      " [   7    3]]\n"
     ]
    }
   ],
   "source": [
    "# Create the training and testing sets\n",
    "\n",
    "from sklearn.metrics import confusion_matrix\n",
    "\n",
    "X_train, X_test, y_train, y_test = train_test_split(\n",
    "    X,y,\n",
    "    test_size=0.33,\n",
    "    random_state=0\n",
    ")\n",
    "\n",
    "# Fit a logistic regression model to our data\n",
    "model = LogisticRegression()\n",
    "model.fit(\n",
    "    X_train,\n",
    "    y_train\n",
    ")\n",
    "\n",
    "# Obtain model predictions\n",
    "predicted = model.predict(X_test)\n",
    "\n",
    "# Print the classifcation report and confusion matrix\n",
    "print('Classification report: \\n', classification_report(y_test, predicted))\n",
    "\n",
    "print('Confussion Matrix: \\n', confusion_matrix(y_test, predicted))"
   ]
  },
  {
   "cell_type": "raw",
   "id": "f7fcd679-a187-4a3e-be4b-6654e6757297",
   "metadata": {},
   "source": [
    "# Logistic regression combined with SMOTE\n",
    "\n",
    "In this exercise, you're going to take the Logistic Regression model from the previous exercise, \n",
    "and combine that with a SMOTE resampling method. \n",
    "We'll show you how to do that efficiently by using a pipeline that combines the resampling method with the model in one go. \n",
    "First, you need to define the pipeline that you're going to use.\n"
   ]
  },
  {
   "cell_type": "code",
   "execution_count": 26,
   "id": "c94acaf1-1c01-49e0-be1e-688e8fbde1b3",
   "metadata": {},
   "outputs": [],
   "source": [
    "# This is the pipeline module we need for this from imblearn\n",
    "from imblearn.pipeline import Pipeline\n",
    "\n",
    "# Define which resampling method and which ML model to use in the pipeline\n",
    "resampling = SMOTE()\n",
    "model = LogisticRegression()\n",
    "\n",
    "# Define the pipeline, tell it to combine SMOTE with the Logistic Regression model\n",
    "pipeline = Pipeline([\n",
    "    ('SMOTE', resampling),\n",
    "    ('Logistic Regression', model)\n",
    "])"
   ]
  },
  {
   "cell_type": "code",
   "execution_count": 28,
   "id": "0cbdff36-6ece-497c-9ccd-c8f0f2abe439",
   "metadata": {},
   "outputs": [
    {
     "name": "stdout",
     "output_type": "stream",
     "text": [
      "Classification Report: \n",
      "               precision    recall  f1-score   support\n",
      "\n",
      "           0       1.00      0.99      1.00      2390\n",
      "           1       0.27      0.60      0.38        10\n",
      "\n",
      "    accuracy                           0.99      2400\n",
      "   macro avg       0.64      0.80      0.69      2400\n",
      "weighted avg       1.00      0.99      0.99      2400\n",
      "\n",
      "Confussion Matrix: \n",
      " [[2374   16]\n",
      " [   4    6]]\n"
     ]
    }
   ],
   "source": [
    "# Using a pipeline\n",
    "\n",
    "# Split your data X and y, into a training and a test set and fit the pipeline onto the training data\n",
    "X_train, X_test, y_train, y_test = train_test_split(\n",
    "    X, y,\n",
    "    test_size=0.3,\n",
    "    random_state=0\n",
    ")\n",
    "\n",
    "# Fit your pipeline onto your training set and obtain predictions by fitting the model onto the test data \n",
    "pipeline.fit(X_train, y_train)\n",
    "y_pred = pipeline.predict(X_test)\n",
    "\n",
    "# Obtain the results from the classification report and confusion matrix\n",
    "print(\n",
    "    'Classification Report: \\n',\n",
    "    classification_report(y_test, y_pred)\n",
    ")\n",
    "\n",
    "print(\n",
    "    'Confussion Matrix: \\n',\n",
    "    confusion_matrix(y_test, y_pred)\n",
    ")"
   ]
  },
  {
   "cell_type": "markdown",
   "id": "6c7774de-2ad5-4823-962a-75d39decafaf",
   "metadata": {},
   "source": [
    "# Section 2: Fraud detection using labelled data"
   ]
  },
  {
   "cell_type": "raw",
   "id": "ee5a2f4c-d56d-463a-9ac5-6c0619d7f859",
   "metadata": {},
   "source": [
    "1. Natural Hit Rate\n",
    "\n",
    "In fraud detection, the natural hit rate refers to the accuracy of a model that predicts every transaction as non-fraudulent. This baseline helps in understanding the minimum performance threshold that any fraud detection model should exceed to be considered effective. For instance, if a dataset has a low prevalence of fraud, predicting all transactions as non-fraudulent would yield a high accuracy, which is the natural hit rate.\n",
    "\n",
    "To calculate the natural hit rate, you first count the total number of transactions and then count the number of non-fraudulent transactions. The natural hit rate is then the ratio of non-fraudulent transactions to the total number of transactions.\n",
    "\n",
    "In the context of credit card transactions, if the dataset has a low fraud rate, the natural hit rate will be high, making it challenging to improve upon this baseline with a fraud detection model."
   ]
  },
  {
   "cell_type": "code",
   "execution_count": 81,
   "id": "6dcc2d30-5a47-4443-b44b-94433fac9560",
   "metadata": {},
   "outputs": [],
   "source": [
    "def prep_data(df):\n",
    "    X = df.iloc[:, 1:29]\n",
    "    X = np.array(X).astype(np.float64)\n",
    "    y = df.iloc[:, 30]\n",
    "    y = np.array(y).astype(np.float64)\n",
    "\n",
    "    return X, y"
   ]
  },
  {
   "cell_type": "code",
   "execution_count": 4,
   "id": "b14f2201-f68f-4853-bca7-dcb0fcd5a257",
   "metadata": {},
   "outputs": [
    {
     "data": {
      "text/html": [
       "<div>\n",
       "<style scoped>\n",
       "    .dataframe tbody tr th:only-of-type {\n",
       "        vertical-align: middle;\n",
       "    }\n",
       "\n",
       "    .dataframe tbody tr th {\n",
       "        vertical-align: top;\n",
       "    }\n",
       "\n",
       "    .dataframe thead th {\n",
       "        text-align: right;\n",
       "    }\n",
       "</style>\n",
       "<table border=\"1\" class=\"dataframe\">\n",
       "  <thead>\n",
       "    <tr style=\"text-align: right;\">\n",
       "      <th></th>\n",
       "      <th>Unnamed: 0</th>\n",
       "      <th>V1</th>\n",
       "      <th>V2</th>\n",
       "      <th>V3</th>\n",
       "      <th>V4</th>\n",
       "      <th>V5</th>\n",
       "      <th>V6</th>\n",
       "      <th>V7</th>\n",
       "      <th>V8</th>\n",
       "      <th>V9</th>\n",
       "      <th>...</th>\n",
       "      <th>V21</th>\n",
       "      <th>V22</th>\n",
       "      <th>V23</th>\n",
       "      <th>V24</th>\n",
       "      <th>V25</th>\n",
       "      <th>V26</th>\n",
       "      <th>V27</th>\n",
       "      <th>V28</th>\n",
       "      <th>Amount</th>\n",
       "      <th>Class</th>\n",
       "    </tr>\n",
       "  </thead>\n",
       "  <tbody>\n",
       "    <tr>\n",
       "      <th>0</th>\n",
       "      <td>221547</td>\n",
       "      <td>-1.191668</td>\n",
       "      <td>0.428409</td>\n",
       "      <td>1.640028</td>\n",
       "      <td>-1.848859</td>\n",
       "      <td>-0.870903</td>\n",
       "      <td>-0.204849</td>\n",
       "      <td>-0.385675</td>\n",
       "      <td>0.352793</td>\n",
       "      <td>-1.098301</td>\n",
       "      <td>...</td>\n",
       "      <td>0.507173</td>\n",
       "      <td>1.292565</td>\n",
       "      <td>-0.467752</td>\n",
       "      <td>1.244887</td>\n",
       "      <td>0.697707</td>\n",
       "      <td>0.059375</td>\n",
       "      <td>-0.319964</td>\n",
       "      <td>-0.017444</td>\n",
       "      <td>27.44</td>\n",
       "      <td>0</td>\n",
       "    </tr>\n",
       "    <tr>\n",
       "      <th>1</th>\n",
       "      <td>184524</td>\n",
       "      <td>1.966614</td>\n",
       "      <td>-0.450087</td>\n",
       "      <td>-1.228586</td>\n",
       "      <td>0.142873</td>\n",
       "      <td>-0.150627</td>\n",
       "      <td>-0.543590</td>\n",
       "      <td>-0.076217</td>\n",
       "      <td>-0.108390</td>\n",
       "      <td>0.973310</td>\n",
       "      <td>...</td>\n",
       "      <td>0.124055</td>\n",
       "      <td>0.564916</td>\n",
       "      <td>-0.039331</td>\n",
       "      <td>-0.283904</td>\n",
       "      <td>0.186400</td>\n",
       "      <td>0.192932</td>\n",
       "      <td>-0.039155</td>\n",
       "      <td>-0.071314</td>\n",
       "      <td>35.95</td>\n",
       "      <td>0</td>\n",
       "    </tr>\n",
       "    <tr>\n",
       "      <th>2</th>\n",
       "      <td>91201</td>\n",
       "      <td>1.528452</td>\n",
       "      <td>-1.296191</td>\n",
       "      <td>-0.890677</td>\n",
       "      <td>-2.504028</td>\n",
       "      <td>0.803202</td>\n",
       "      <td>3.350793</td>\n",
       "      <td>-1.633016</td>\n",
       "      <td>0.815350</td>\n",
       "      <td>-1.884692</td>\n",
       "      <td>...</td>\n",
       "      <td>-0.412088</td>\n",
       "      <td>-1.017485</td>\n",
       "      <td>0.129566</td>\n",
       "      <td>0.948048</td>\n",
       "      <td>0.287826</td>\n",
       "      <td>-0.396592</td>\n",
       "      <td>0.042997</td>\n",
       "      <td>0.025853</td>\n",
       "      <td>28.40</td>\n",
       "      <td>0</td>\n",
       "    </tr>\n",
       "    <tr>\n",
       "      <th>3</th>\n",
       "      <td>26115</td>\n",
       "      <td>-0.774614</td>\n",
       "      <td>1.100916</td>\n",
       "      <td>0.679080</td>\n",
       "      <td>1.034016</td>\n",
       "      <td>0.168633</td>\n",
       "      <td>0.874582</td>\n",
       "      <td>0.209454</td>\n",
       "      <td>0.770550</td>\n",
       "      <td>-0.558106</td>\n",
       "      <td>...</td>\n",
       "      <td>0.011158</td>\n",
       "      <td>0.146017</td>\n",
       "      <td>-0.130401</td>\n",
       "      <td>-0.848815</td>\n",
       "      <td>0.005698</td>\n",
       "      <td>-0.183295</td>\n",
       "      <td>0.282940</td>\n",
       "      <td>0.123856</td>\n",
       "      <td>43.20</td>\n",
       "      <td>0</td>\n",
       "    </tr>\n",
       "    <tr>\n",
       "      <th>4</th>\n",
       "      <td>201292</td>\n",
       "      <td>-1.075860</td>\n",
       "      <td>1.361160</td>\n",
       "      <td>1.496972</td>\n",
       "      <td>2.242604</td>\n",
       "      <td>1.314751</td>\n",
       "      <td>0.272787</td>\n",
       "      <td>1.005246</td>\n",
       "      <td>0.132932</td>\n",
       "      <td>-1.558317</td>\n",
       "      <td>...</td>\n",
       "      <td>0.254485</td>\n",
       "      <td>0.530692</td>\n",
       "      <td>-0.651119</td>\n",
       "      <td>0.626389</td>\n",
       "      <td>1.040212</td>\n",
       "      <td>0.249501</td>\n",
       "      <td>-0.146745</td>\n",
       "      <td>0.029714</td>\n",
       "      <td>10.59</td>\n",
       "      <td>0</td>\n",
       "    </tr>\n",
       "  </tbody>\n",
       "</table>\n",
       "<p>5 rows × 31 columns</p>\n",
       "</div>"
      ],
      "text/plain": [
       "   Unnamed: 0        V1        V2        V3        V4        V5        V6  \\\n",
       "0      221547 -1.191668  0.428409  1.640028 -1.848859 -0.870903 -0.204849   \n",
       "1      184524  1.966614 -0.450087 -1.228586  0.142873 -0.150627 -0.543590   \n",
       "2       91201  1.528452 -1.296191 -0.890677 -2.504028  0.803202  3.350793   \n",
       "3       26115 -0.774614  1.100916  0.679080  1.034016  0.168633  0.874582   \n",
       "4      201292 -1.075860  1.361160  1.496972  2.242604  1.314751  0.272787   \n",
       "\n",
       "         V7        V8        V9  ...       V21       V22       V23       V24  \\\n",
       "0 -0.385675  0.352793 -1.098301  ...  0.507173  1.292565 -0.467752  1.244887   \n",
       "1 -0.076217 -0.108390  0.973310  ...  0.124055  0.564916 -0.039331 -0.283904   \n",
       "2 -1.633016  0.815350 -1.884692  ... -0.412088 -1.017485  0.129566  0.948048   \n",
       "3  0.209454  0.770550 -0.558106  ...  0.011158  0.146017 -0.130401 -0.848815   \n",
       "4  1.005246  0.132932 -1.558317  ...  0.254485  0.530692 -0.651119  0.626389   \n",
       "\n",
       "        V25       V26       V27       V28  Amount  Class  \n",
       "0  0.697707  0.059375 -0.319964 -0.017444   27.44      0  \n",
       "1  0.186400  0.192932 -0.039155 -0.071314   35.95      0  \n",
       "2  0.287826 -0.396592  0.042997  0.025853   28.40      0  \n",
       "3  0.005698 -0.183295  0.282940  0.123856   43.20      0  \n",
       "4  1.040212  0.249501 -0.146745  0.029714   10.59      0  \n",
       "\n",
       "[5 rows x 31 columns]"
      ]
     },
     "execution_count": 4,
     "metadata": {},
     "output_type": "execute_result"
    }
   ],
   "source": [
    "df2 = pd.read_csv(r\"creditcard_sampledata_2.csv\")\n",
    "df2.head()"
   ]
  },
  {
   "cell_type": "code",
   "execution_count": 85,
   "id": "76657012-392b-44f0-9d66-a852c8b9f851",
   "metadata": {},
   "outputs": [
    {
     "data": {
      "text/plain": [
       "array([0., 0., 0., ..., 1., 1., 1.])"
      ]
     },
     "execution_count": 85,
     "metadata": {},
     "output_type": "execute_result"
    }
   ],
   "source": [
    "X, y = prep_data(df2)\n",
    "y"
   ]
  },
  {
   "cell_type": "code",
   "execution_count": 87,
   "id": "98a17145-b48f-43bd-b07b-ab3c9b3ee6b3",
   "metadata": {},
   "outputs": [
    {
     "name": "stdout",
     "output_type": "stream",
     "text": [
      "(7300, 28) \n",
      " (7300,)\n"
     ]
    }
   ],
   "source": [
    "print(X.shape,'\\n',y.shape)"
   ]
  },
  {
   "cell_type": "code",
   "execution_count": 89,
   "id": "83ea07db-932d-4cb9-8887-78078bd05e84",
   "metadata": {},
   "outputs": [
    {
     "name": "stdout",
     "output_type": "stream",
     "text": [
      "95.89%\n"
     ]
    }
   ],
   "source": [
    "# Count the total number of observations from the length of y\n",
    "total = len(y)\n",
    "\n",
    "# Count the non-fraudulent observations\n",
    "non_fraud = [i for i in y if i == 0]\n",
    "nf_count = len(non_fraud)\n",
    "\n",
    "# Calculatre the percentage of non-fraud observations\n",
    "percentage = 100 * nf_count / total\n",
    "\n",
    "# Print the percentage: this is our \"natural accuracy\" by doing nothing\n",
    "print(f'{round(percentage,2)}%')"
   ]
  },
  {
   "cell_type": "raw",
   "id": "a0c36334-a799-4023-a540-e9c2a9db086a",
   "metadata": {},
   "source": [
    "2. Random Forest Classifier"
   ]
  },
  {
   "cell_type": "code",
   "execution_count": 91,
   "id": "8138c24b-c472-4475-b965-59c9227caa8c",
   "metadata": {},
   "outputs": [],
   "source": [
    "# Import the random forest model from sklearn\n",
    "from sklearn.ensemble import RandomForestClassifier\n",
    "from sklearn.metrics import accuracy_score\n",
    "\n",
    "# Split test and training data\n",
    "X_train, X_test, y_train, y_test = train_test_split(X,y)\n",
    "\n",
    "# Define model as the random forest\n",
    "model = RandomForestClassifier(random_state=5)"
   ]
  },
  {
   "cell_type": "code",
   "execution_count": 93,
   "id": "402b20c7-5196-4e1d-9ae3-6626632f78be",
   "metadata": {},
   "outputs": [
    {
     "data": {
      "text/plain": [
       "((1825, 28), (1825,))"
      ]
     },
     "execution_count": 93,
     "metadata": {},
     "output_type": "execute_result"
    }
   ],
   "source": [
    "X_test.shape, y_test.shape"
   ]
  },
  {
   "cell_type": "code",
   "execution_count": 95,
   "id": "a8dad51f-7ae2-45cb-b1a0-5703f2f57809",
   "metadata": {},
   "outputs": [
    {
     "name": "stdout",
     "output_type": "stream",
     "text": [
      "0.993972602739726\n"
     ]
    }
   ],
   "source": [
    "#Fit the model to the training set\n",
    "model.fit(X_train, y_train)\n",
    "\n",
    "# Obtain predictions from test data\n",
    "y_pred = model.predict(X_test)\n",
    "\n",
    "# Print accuracy performance metric\n",
    "print(accuracy_score(y_test, y_pred))"
   ]
  },
  {
   "cell_type": "raw",
   "id": "df2eabef-9ca8-45d0-918c-350b59ebf1a7",
   "metadata": {},
   "source": [
    "3. Performance metrics for the RF model\n",
    "\n",
    "With highly imbalanced fraud data, the AUROC curve is a more reliable performance metric, used to compare different classifiers. Moreover, the classification report tells you about the precision and recall of your model, whilst the confusion matrix actually shows how many fraud cases you can predict correctly"
   ]
  },
  {
   "cell_type": "code",
   "execution_count": 96,
   "id": "35a8d85a-3440-4662-b6d4-6a25937baca6",
   "metadata": {},
   "outputs": [
    {
     "name": "stdout",
     "output_type": "stream",
     "text": [
      "Classification Report:\n",
      "               precision    recall  f1-score   support\n",
      "\n",
      "         0.0       0.99      1.00      1.00      1755\n",
      "         1.0       0.98      0.86      0.92        70\n",
      "\n",
      "    accuracy                           0.99      1825\n",
      "   macro avg       0.99      0.93      0.96      1825\n",
      "weighted avg       0.99      0.99      0.99      1825\n",
      "\n",
      "Confusion Matrix:\n",
      " [[1754    1]\n",
      " [  10   60]]\n",
      "\n",
      "AUC ROC Score:\n",
      " 0.9914774114774115\n"
     ]
    }
   ],
   "source": [
    "# Import classif report conf matrix and aucroc score\n",
    "from sklearn.metrics import classification_report, confusion_matrix, roc_auc_score\n",
    "\n",
    "#Obtain the predictions from the RF model\n",
    "y_pred = model.predict(X_test)\n",
    "\n",
    "# Predict probabilities\n",
    "probs = model.predict_proba(X_test)\n",
    "\n",
    "# Print results\n",
    "\n",
    "print(\n",
    "    'Classification Report:\\n', \n",
    "    classification_report(y_test, y_pred)\n",
    ")\n",
    "\n",
    "print(\n",
    "    'Confusion Matrix:\\n',\n",
    "    confusion_matrix(y_test, y_pred, labels = [0,1])\n",
    ")\n",
    "\n",
    "print(\n",
    "    '\\nAUC ROC Score:\\n',\n",
    "    roc_auc_score(y_test, probs[:,1])\n",
    ")"
   ]
  },
  {
   "cell_type": "code",
   "execution_count": 99,
   "id": "e9d4980d-1c40-460d-aa9d-6213d21e0f8f",
   "metadata": {},
   "outputs": [
    {
     "data": {
      "text/plain": [
       "array([[1.  , 0.  ],\n",
       "       [1.  , 0.  ],\n",
       "       [1.  , 0.  ],\n",
       "       ...,\n",
       "       [1.  , 0.  ],\n",
       "       [0.97, 0.03],\n",
       "       [1.  , 0.  ]])"
      ]
     },
     "execution_count": 99,
     "metadata": {},
     "output_type": "execute_result"
    }
   ],
   "source": [
    "probs"
   ]
  },
  {
   "cell_type": "raw",
   "id": "f589a37e-ae92-4568-ad8a-d3403ce941ba",
   "metadata": {},
   "source": [
    "- Plotting the Precision Recall Curve\n",
    "\n",
    "In this curve Precision and Recall are inversely related; as Precision increases, Recall falls and vice-versa."
   ]
  },
  {
   "cell_type": "code",
   "execution_count": 101,
   "id": "f17f7577-16c2-4b2b-b29b-8c32860a7f11",
   "metadata": {},
   "outputs": [],
   "source": [
    "def plot_pr_curve(recall, precision, avg_precision):\n",
    "    plt.step(recall, precision, color = 'b', alpha = 0.2, where = 'post')\n",
    "    plt.fill_between(recall, precision, step = 'post', alpha = 0.2, color = 'b')\n",
    "    plt.xlabel('Recall')\n",
    "    plt.ylabel('Precision')\n",
    "    plt.ylim([0.0,1.05])\n",
    "    plt.xlim([0.0,1.0])\n",
    "    plt.title(\n",
    "        '2-class Precision-Recall curve: AP = {0:0.2f}'.format(avg_precision)\n",
    "    )\n",
    "    plt.show()"
   ]
  },
  {
   "cell_type": "code",
   "execution_count": 103,
   "id": "752ac473-7eaf-4343-9334-930221429697",
   "metadata": {},
   "outputs": [
    {
     "data": {
      "image/png": "[encoded data removed]",
      "text/plain": [
       "<Figure size 640x480 with 1 Axes>"
      ]
     },
     "metadata": {},
     "output_type": "display_data"
    }
   ],
   "source": [
    "from sklearn.metrics import average_precision_score, precision_recall_curve, roc_curve\n",
    "\n",
    "# Calculta avg precision and the PR curve\n",
    "avg_precision = average_precision_score(y_test, y_pred)\n",
    "\n",
    "# Obtain precision and recall\n",
    "precision, recall, _ = precision_recall_curve(y_test, y_pred)\n",
    "\n",
    "# Plot the recall precision tradeoff\n",
    "plot_pr_curve(recall, precision, avg_precision)"
   ]
  },
  {
   "cell_type": "markdown",
   "id": "d8b7ed3a-9155-414b-ba83-e7e93a2f846f",
   "metadata": {},
   "source": [
    "The ROC curve plots the true positives vs. false positives , for a classifier, as its discrimination threshold is varied. Since, a random method describes a horizontal curve through the unit interval, it has an AUC of 0.5. Minimally, classifiers should perform better than this, and the extent to which they score higher than one another (meaning the area under the ROC curve is larger), they have better expected performance."
   ]
  },
  {
   "cell_type": "code",
   "execution_count": 106,
   "id": "e3d53569-4eae-4b35-b5b5-3093da560a0c",
   "metadata": {},
   "outputs": [
    {
     "data": {
      "image/png": "[encoded data removed]",
      "text/plain": [
       "<Figure size 640x480 with 1 Axes>"
      ]
     },
     "metadata": {},
     "output_type": "display_data"
    }
   ],
   "source": [
    "# Create true and false positives rates\n",
    "false_positive_rate, true_positive_rate, threshold = roc_curve(y_test, y_pred)\n",
    "\n",
    "# Plot ROC curve\n",
    "\n",
    "plt.title(\"Receiver Operating Characteristic\")\n",
    "plt.plot(false_positive_rate, true_positive_rate)\n",
    "plt.plot([0, 1], ls=\"--\")\n",
    "plt.plot([0, 0], [1, 0] , c=\".7\"), plt.plot([1, 1] , c=\".7\")\n",
    "plt.ylabel(\"True Positive Rate\")\n",
    "plt.xlabel(\"False Positive Rate\")\n",
    "\n",
    "plt.show()"
   ]
  },
  {
   "cell_type": "raw",
   "id": "3fa404fa-c00c-41ba-9b0e-629c2e7c41df",
   "metadata": {},
   "source": [
    "4. Model adjustments"
   ]
  },
  {
   "cell_type": "code",
   "execution_count": 108,
   "id": "30f5139d-6a6e-406c-83c8-3901f08ecc3a",
   "metadata": {},
   "outputs": [
    {
     "name": "stdout",
     "output_type": "stream",
     "text": [
      "AUC ROC Score (%):\n",
      " 98.33\n",
      "\n",
      "Classification Report:\n",
      "               precision    recall  f1-score   support\n",
      "\n",
      "         0.0       0.99      1.00      1.00      1755\n",
      "         1.0       1.00      0.83      0.91        70\n",
      "\n",
      "    accuracy                           0.99      1825\n",
      "   macro avg       1.00      0.91      0.95      1825\n",
      "weighted avg       0.99      0.99      0.99      1825\n",
      "\n",
      "\n",
      "Confusion Matrix:\n",
      " [[1755    0]\n",
      " [  12   58]]\n"
     ]
    }
   ],
   "source": [
    "# Define the model with balanced subsample\n",
    "model = RandomForestClassifier(\n",
    "    class_weight = 'balanced_subsample',\n",
    "    n_estimators = 100,\n",
    "    random_state = 5\n",
    ")\n",
    "\n",
    "# Fit training model to training set\n",
    "model.fit(X_train, y_train)\n",
    "\n",
    "# Obtain predicted values and probabilities from the model\n",
    "y_pred = model.predict(X_test)\n",
    "prob = model.predict_proba(X_test)\n",
    "\n",
    "# Print results\n",
    "\n",
    "print(\n",
    "    'AUC ROC Score (%):\\n',\n",
    "    round(100 * roc_auc_score(y_test, prob[:,1]),2)\n",
    ")\n",
    "\n",
    "print(\n",
    "    '\\nClassification Report:\\n',\n",
    "    classification_report(y_test, y_pred)\n",
    ")\n",
    "\n",
    "print(\n",
    "    '\\nConfusion Matrix:\\n',\n",
    "    confusion_matrix(y_test, y_pred)\n",
    ")"
   ]
  },
  {
   "cell_type": "markdown",
   "id": "de86020c-16d1-4e04-8a34-f01502f93dc6",
   "metadata": {},
   "source": [
    "you can see that the model results don't improve drastically. If we mostly care about catching fraud, and not so much about the false positives, this does actually not improve our model at all, albeit a simple option to try."
   ]
  },
  {
   "cell_type": "raw",
   "id": "b4743884-5781-4a01-a0b3-3f83baa4553b",
   "metadata": {},
   "source": [
    "5. Adjusting your Random Forest to fraud detection"
   ]
  },
  {
   "cell_type": "code",
   "execution_count": 111,
   "id": "4540dba7-fc9f-4c55-9564-4e3a8999c645",
   "metadata": {},
   "outputs": [],
   "source": [
    "def get_model_results(X_train, y_train, X_test, y_test, model):\n",
    "\n",
    "    model.fit(X_train, y_train)\n",
    "    y_pred = model.predict(X_test)\n",
    "\n",
    "    print(\n",
    "        '\\nClassification Report:\\n',\n",
    "        classification_report(y_test, y_pred)\n",
    "    )\n",
    "    \n",
    "    print(\n",
    "        '\\nConfusion Matrix:\\n',\n",
    "        confusion_matrix(y_test, y_pred)\n",
    "    )"
   ]
  },
  {
   "cell_type": "code",
   "execution_count": 113,
   "id": "35e7b446-171a-47db-b882-fc0b0899006d",
   "metadata": {},
   "outputs": [
    {
     "name": "stdout",
     "output_type": "stream",
     "text": [
      "\n",
      "Classification Report:\n",
      "               precision    recall  f1-score   support\n",
      "\n",
      "         0.0       0.99      1.00      1.00      1755\n",
      "         1.0       0.94      0.87      0.90        70\n",
      "\n",
      "    accuracy                           0.99      1825\n",
      "   macro avg       0.97      0.93      0.95      1825\n",
      "weighted avg       0.99      0.99      0.99      1825\n",
      "\n",
      "\n",
      "Confusion Matrix:\n",
      " [[1751    4]\n",
      " [   9   61]]\n"
     ]
    }
   ],
   "source": [
    "# Change the model options\n",
    "model = RandomForestClassifier(\n",
    "    bootstrap = True,\n",
    "    class_weight = {0:1, 1:12}, \n",
    "    criterion = 'entropy',\n",
    "    max_depth = 10,  \n",
    "    min_samples_leaf = 10, \n",
    "    n_estimators = 20, \n",
    "    n_jobs = -1,\n",
    "    random_state = 5\n",
    ")\n",
    "\n",
    "# Get results\n",
    "get_model_results(X_train, y_train, X_test, y_test, model)"
   ]
  },
  {
   "cell_type": "markdown",
   "id": "3c0a1539-8ce8-4f52-9508-fdea38a0429e",
   "metadata": {},
   "source": [
    "Note: You can see by smartly defining more options in the model, you can obtain better predictions. You have effectively reduced the number of false negatives, i.e. you are catching more cases of fraud, whilst keeping the number of false positives low. In this exercise you've manually changed the options of the model"
   ]
  },
  {
   "cell_type": "raw",
   "id": "1541e3cb-ced2-497a-8233-67b4e7cbc78c",
   "metadata": {},
   "source": [
    "6. GridSearchCV to find optimal parameters"
   ]
  },
  {
   "cell_type": "code",
   "execution_count": 121,
   "id": "54c3208c-59c0-47e7-982b-0fe8f23dab03",
   "metadata": {},
   "outputs": [
    {
     "data": {
      "text/plain": [
       "{'criterion': 'gini',\n",
       " 'max_depth': 8,\n",
       " 'max_features': 'sqrt',\n",
       " 'n_estimators': 30}"
      ]
     },
     "execution_count": 121,
     "metadata": {},
     "output_type": "execute_result"
    }
   ],
   "source": [
    "from sklearn.model_selection import GridSearchCV\n",
    "\n",
    "# Define the parameter sets to test\n",
    "params = {\n",
    "    'n_estimators' : [1,30],\n",
    "    'max_features' : ['sqrt', 'log2'],\n",
    "    'max_depth' : [4,8],\n",
    "    'criterion' : ['gini', 'entropy']\n",
    "}\n",
    "\n",
    "# Define model to use\n",
    "model = RandomForestClassifier(random_state = 5)\n",
    "\n",
    "# Combine the parameter sets with the model\n",
    "CV_model = GridSearchCV(\n",
    "    estimator = model,\n",
    "    param_grid = params,\n",
    "    cv = 5,\n",
    "    scoring = 'recall',\n",
    "    error_score = 'raise',\n",
    "    n_jobs = -1\n",
    ")\n",
    "\n",
    "# Fit model and get best params\n",
    "\n",
    "CV_model.fit(X_train, y_train)\n",
    "CV_model.best_params_"
   ]
  },
  {
   "cell_type": "code",
   "execution_count": 125,
   "id": "2eb49666-b287-4a80-80c4-cd850d5888da",
   "metadata": {},
   "outputs": [
    {
     "name": "stdout",
     "output_type": "stream",
     "text": [
      "\n",
      "Classification Report:\n",
      "               precision    recall  f1-score   support\n",
      "\n",
      "         0.0       0.99      1.00      1.00      1755\n",
      "         1.0       0.97      0.87      0.92        70\n",
      "\n",
      "    accuracy                           0.99      1825\n",
      "   macro avg       0.98      0.94      0.96      1825\n",
      "weighted avg       0.99      0.99      0.99      1825\n",
      "\n",
      "\n",
      "Confusion Matrix:\n",
      " [[1753    2]\n",
      " [   9   61]]\n"
     ]
    }
   ],
   "source": [
    "# Model results using GridSearchCV\n",
    "\n",
    "# Input optimal params into the model\n",
    "model = RandomForestClassifier(\n",
    "    class_weight = {0 : 1, 1 : 12},\n",
    "    criterion = 'gini',\n",
    "    max_depth = 8,\n",
    "    max_features = 'sqrt',\n",
    "    n_estimators = 30,\n",
    "    min_samples_leaf = 10,\n",
    "    n_jobs = -1,\n",
    "    random_state = 5\n",
    ")\n",
    "\n",
    "#Get results\n",
    "get_model_results(X_train, y_train, X_test, y_test, model)"
   ]
  },
  {
   "cell_type": "markdown",
   "id": "0355a8b9-0ddb-48e0-8560-040f4f8a6a13",
   "metadata": {},
   "source": [
    "You've managed to improve your model even further. The number of false positives has now been slightly reduced even further, which means we are catching more cases of fraud. However, you see that the number of false negatives is still the same. That is that Precision-Recall trade-off in action. To decide which final model is best, you need to take into account how bad it is not to catch fraudsters, versus how many false positives the fraud analytics team can deal with."
   ]
  },
  {
   "cell_type": "raw",
   "id": "a262f49c-a6c3-4583-b669-c920a488b99c",
   "metadata": {},
   "source": [
    "7. Logistic Regression"
   ]
  },
  {
   "cell_type": "code",
   "execution_count": 129,
   "id": "eb746417-c6c9-4156-bd70-a6a34215d646",
   "metadata": {},
   "outputs": [
    {
     "name": "stdout",
     "output_type": "stream",
     "text": [
      "\n",
      "Classification Report:\n",
      "               precision    recall  f1-score   support\n",
      "\n",
      "         0.0       1.00      0.99      0.99      1755\n",
      "         1.0       0.74      0.91      0.82        70\n",
      "\n",
      "    accuracy                           0.98      1825\n",
      "   macro avg       0.87      0.95      0.90      1825\n",
      "weighted avg       0.99      0.98      0.98      1825\n",
      "\n",
      "\n",
      "Confusion Matrix:\n",
      " [[1732   23]\n",
      " [   6   64]]\n"
     ]
    }
   ],
   "source": [
    "# Define the logistic model regression with weights\n",
    "model = LogisticRegression(class_weight = { 0 : 1 , 1 : 12}, random_state = 5)\n",
    "\n",
    "# Get results\n",
    "get_model_results(X_train, y_train, X_test, y_test, model)"
   ]
  },
  {
   "cell_type": "markdown",
   "id": "fb5cd676-c59d-4ce2-9604-75dc21b6031f",
   "metadata": {},
   "source": [
    "As you can see the Logistic Regression has quite different performance from the Random Forest. More false positives, but also a better Recall"
   ]
  },
  {
   "cell_type": "raw",
   "id": "7bfb0179-a467-4ac1-b02d-17df493f61b6",
   "metadata": {},
   "source": [
    "8. Voting Classifier"
   ]
  },
  {
   "cell_type": "code",
   "execution_count": 142,
   "id": "55d6b9c4-4fec-4bef-b3f2-d48ef1bf3572",
   "metadata": {},
   "outputs": [
    {
     "name": "stdout",
     "output_type": "stream",
     "text": [
      "\n",
      "Classification Report:\n",
      "               precision    recall  f1-score   support\n",
      "\n",
      "         0.0       0.99      1.00      1.00      1755\n",
      "         1.0       0.94      0.87      0.90        70\n",
      "\n",
      "    accuracy                           0.99      1825\n",
      "   macro avg       0.97      0.93      0.95      1825\n",
      "weighted avg       0.99      0.99      0.99      1825\n",
      "\n",
      "\n",
      "Confusion Matrix:\n",
      " [[1751    4]\n",
      " [   9   61]]\n"
     ]
    }
   ],
   "source": [
    "from sklearn.tree import DecisionTreeClassifier\n",
    "from sklearn.ensemble import VotingClassifier\n",
    "\n",
    "# Define tree classifiers in the ensemble mode\n",
    "\n",
    "mod1 = LogisticRegression(class_weight = { 0 : 1 , 1 : 15}, random_state = 5)\n",
    "\n",
    "mod2 = RandomForestClassifier(\n",
    "    class_weight = { 0 : 1 , 1 : 12}, \n",
    "    random_state = 5,\n",
    "    criterion = 'gini',\n",
    "    max_depth = 8,\n",
    "    max_features = 'sqrt',\n",
    "    min_samples_leaf = 10,\n",
    "    n_estimators = 30,\n",
    "    n_jobs = -1\n",
    ")\n",
    "\n",
    "mod3 = DecisionTreeClassifier(random_state = 5, class_weight = 'balanced')\n",
    "\n",
    "# Combine in ensemble model\n",
    "ensemble_model = VotingClassifier(\n",
    "    estimators = [('lr', mod1), ('rf', mod2), ('dt', mod3)],\n",
    "    voting = 'hard'\n",
    ")\n",
    "\n",
    "# Get results\n",
    "get_model_results(X_train, y_train, X_test, y_test, ensemble_model)"
   ]
  },
  {
   "cell_type": "markdown",
   "id": "bb30074b-c654-4894-9795-494b21c259cf",
   "metadata": {},
   "source": [
    "."
   ]
  },
  {
   "cell_type": "raw",
   "id": "00fee5b0-6675-4bbf-82d9-841554edde94",
   "metadata": {},
   "source": [
    "9. Adjust weights within the Voting Classifier"
   ]
  },
  {
   "cell_type": "code",
   "execution_count": 146,
   "id": "7d5b6374-9872-478b-981a-d4487c237a39",
   "metadata": {},
   "outputs": [
    {
     "name": "stdout",
     "output_type": "stream",
     "text": [
      "\n",
      "Classification Report:\n",
      "               precision    recall  f1-score   support\n",
      "\n",
      "         0.0       0.99      1.00      1.00      1755\n",
      "         1.0       0.95      0.87      0.91        70\n",
      "\n",
      "    accuracy                           0.99      1825\n",
      "   macro avg       0.97      0.93      0.95      1825\n",
      "weighted avg       0.99      0.99      0.99      1825\n",
      "\n",
      "\n",
      "Confusion Matrix:\n",
      " [[1752    3]\n",
      " [   9   61]]\n"
     ]
    }
   ],
   "source": [
    "# Define ensemble model\n",
    "em_adjusted = VotingClassifier(\n",
    "    estimators = [('lr', mod1), ('rf', mod2), ('dt', mod3)],\n",
    "    voting = 'soft',\n",
    "    weights = [1,4,1],\n",
    "    flatten_transform = True\n",
    ")\n",
    "\n",
    "# Get results\n",
    "get_model_results(X_train, y_train, X_test, y_test, em_adjusted)"
   ]
  },
  {
   "cell_type": "code",
   "execution_count": 148,
   "id": "07f26a29-2a64-47f3-a836-6d158ab2f6aa",
   "metadata": {},
   "outputs": [
    {
     "data": {
      "text/plain": [
       "[LogisticRegression(class_weight={0: 1, 1: 15}, random_state=5),\n",
       " RandomForestClassifier(class_weight={0: 1, 1: 12}, max_depth=8,\n",
       "                        min_samples_leaf=10, n_estimators=30, n_jobs=-1,\n",
       "                        random_state=5),\n",
       " DecisionTreeClassifier(class_weight='balanced', random_state=5)]"
      ]
     },
     "execution_count": 148,
     "metadata": {},
     "output_type": "execute_result"
    }
   ],
   "source": [
    "em_adjusted.estimators_"
   ]
  },
  {
   "cell_type": "markdown",
   "id": "beb129ad-491b-4d15-8428-3f1ba0e528b5",
   "metadata": {},
   "source": [
    "The weight option allows you to play with the individual models to get the best final mix for your fraud detection model."
   ]
  },
  {
   "cell_type": "markdown",
   "id": "c5673092-466a-4eaf-80d9-dc8bd3427b34",
   "metadata": {},
   "source": [
    "."
   ]
  },
  {
   "cell_type": "markdown",
   "id": "4e6213c6-2f28-4f39-a033-f7179e85c7bd",
   "metadata": {},
   "source": [
    "# Section 3: Fraud detection using unlabelled data"
   ]
  },
  {
   "cell_type": "markdown",
   "id": "5471d624-b9dd-4bb4-bf50-82f94e0e47f2",
   "metadata": {},
   "source": [
    "."
   ]
  },
  {
   "cell_type": "code",
   "execution_count": 2,
   "id": "2eab31ee-a2a5-4759-8914-ba95c1a6462b",
   "metadata": {},
   "outputs": [],
   "source": [
    "import numpy as np\n",
    "import pandas as pd\n",
    "import matplotlib.pyplot as plt\n",
    "\n",
    "%matplotlib inline"
   ]
  },
  {
   "cell_type": "code",
   "execution_count": 4,
   "id": "404cd41f-b04c-4572-90c1-0f44c7efc99e",
   "metadata": {},
   "outputs": [
    {
     "data": {
      "text/html": [
       "<div>\n",
       "<style scoped>\n",
       "    .dataframe tbody tr th:only-of-type {\n",
       "        vertical-align: middle;\n",
       "    }\n",
       "\n",
       "    .dataframe tbody tr th {\n",
       "        vertical-align: top;\n",
       "    }\n",
       "\n",
       "    .dataframe thead th {\n",
       "        text-align: right;\n",
       "    }\n",
       "</style>\n",
       "<table border=\"1\" class=\"dataframe\">\n",
       "  <thead>\n",
       "    <tr style=\"text-align: right;\">\n",
       "      <th></th>\n",
       "      <th>Unnamed: 0</th>\n",
       "      <th>age</th>\n",
       "      <th>gender</th>\n",
       "      <th>category</th>\n",
       "      <th>amount</th>\n",
       "      <th>fraud</th>\n",
       "    </tr>\n",
       "  </thead>\n",
       "  <tbody>\n",
       "    <tr>\n",
       "      <th>0</th>\n",
       "      <td>171915</td>\n",
       "      <td>3</td>\n",
       "      <td>F</td>\n",
       "      <td>es_transportation</td>\n",
       "      <td>49.71</td>\n",
       "      <td>0</td>\n",
       "    </tr>\n",
       "    <tr>\n",
       "      <th>1</th>\n",
       "      <td>426989</td>\n",
       "      <td>4</td>\n",
       "      <td>F</td>\n",
       "      <td>es_health</td>\n",
       "      <td>39.29</td>\n",
       "      <td>0</td>\n",
       "    </tr>\n",
       "    <tr>\n",
       "      <th>2</th>\n",
       "      <td>310539</td>\n",
       "      <td>3</td>\n",
       "      <td>F</td>\n",
       "      <td>es_transportation</td>\n",
       "      <td>18.76</td>\n",
       "      <td>0</td>\n",
       "    </tr>\n",
       "    <tr>\n",
       "      <th>3</th>\n",
       "      <td>215216</td>\n",
       "      <td>4</td>\n",
       "      <td>M</td>\n",
       "      <td>es_transportation</td>\n",
       "      <td>13.95</td>\n",
       "      <td>0</td>\n",
       "    </tr>\n",
       "    <tr>\n",
       "      <th>4</th>\n",
       "      <td>569244</td>\n",
       "      <td>2</td>\n",
       "      <td>M</td>\n",
       "      <td>es_transportation</td>\n",
       "      <td>49.87</td>\n",
       "      <td>0</td>\n",
       "    </tr>\n",
       "  </tbody>\n",
       "</table>\n",
       "</div>"
      ],
      "text/plain": [
       "   Unnamed: 0 age gender           category  amount  fraud\n",
       "0      171915   3      F  es_transportation   49.71      0\n",
       "1      426989   4      F          es_health   39.29      0\n",
       "2      310539   3      F  es_transportation   18.76      0\n",
       "3      215216   4      M  es_transportation   13.95      0\n",
       "4      569244   2      M  es_transportation   49.87      0"
      ]
     },
     "execution_count": 4,
     "metadata": {},
     "output_type": "execute_result"
    }
   ],
   "source": [
    "df3 = pd.read_csv(r\"banksim.csv\")\n",
    "df3.head()"
   ]
  },
  {
   "cell_type": "code",
   "execution_count": 8,
   "id": "06389902-1369-44d8-a793-169560e7731b",
   "metadata": {},
   "outputs": [
    {
     "name": "stdout",
     "output_type": "stream",
     "text": [
      "<class 'pandas.core.frame.DataFrame'>\n",
      "RangeIndex: 7200 entries, 0 to 7199\n",
      "Data columns (total 6 columns):\n",
      " #   Column      Non-Null Count  Dtype  \n",
      "---  ------      --------------  -----  \n",
      " 0   Unnamed: 0  7200 non-null   int64  \n",
      " 1   age         7200 non-null   object \n",
      " 2   gender      7200 non-null   object \n",
      " 3   category    7200 non-null   object \n",
      " 4   amount      7200 non-null   float64\n",
      " 5   fraud       7200 non-null   int64  \n",
      "dtypes: float64(1), int64(2), object(3)\n",
      "memory usage: 337.6+ KB\n"
     ]
    }
   ],
   "source": [
    "df3.info()"
   ]
  },
  {
   "cell_type": "code",
   "execution_count": 21,
   "id": "cd4c3379-1e74-45b4-9b88-116cc826eb01",
   "metadata": {},
   "outputs": [
    {
     "data": {
      "text/html": [
       "<div>\n",
       "<style scoped>\n",
       "    .dataframe tbody tr th:only-of-type {\n",
       "        vertical-align: middle;\n",
       "    }\n",
       "\n",
       "    .dataframe tbody tr th {\n",
       "        vertical-align: top;\n",
       "    }\n",
       "\n",
       "    .dataframe thead th {\n",
       "        text-align: right;\n",
       "    }\n",
       "</style>\n",
       "<table border=\"1\" class=\"dataframe\">\n",
       "  <thead>\n",
       "    <tr style=\"text-align: right;\">\n",
       "      <th></th>\n",
       "      <th>Unnamed: 0</th>\n",
       "      <th>amount</th>\n",
       "      <th>fraud</th>\n",
       "    </tr>\n",
       "    <tr>\n",
       "      <th>category</th>\n",
       "      <th></th>\n",
       "      <th></th>\n",
       "      <th></th>\n",
       "    </tr>\n",
       "  </thead>\n",
       "  <tbody>\n",
       "    <tr>\n",
       "      <th>es_barsandrestaurants</th>\n",
       "      <td>267372.71</td>\n",
       "      <td>43.84</td>\n",
       "      <td>0.02</td>\n",
       "    </tr>\n",
       "    <tr>\n",
       "      <th>es_contents</th>\n",
       "      <td>335906.15</td>\n",
       "      <td>55.17</td>\n",
       "      <td>0.00</td>\n",
       "    </tr>\n",
       "    <tr>\n",
       "      <th>es_fashion</th>\n",
       "      <td>286952.23</td>\n",
       "      <td>59.78</td>\n",
       "      <td>0.02</td>\n",
       "    </tr>\n",
       "    <tr>\n",
       "      <th>es_food</th>\n",
       "      <td>334978.98</td>\n",
       "      <td>35.22</td>\n",
       "      <td>0.00</td>\n",
       "    </tr>\n",
       "    <tr>\n",
       "      <th>es_health</th>\n",
       "      <td>335355.18</td>\n",
       "      <td>126.60</td>\n",
       "      <td>0.24</td>\n",
       "    </tr>\n",
       "    <tr>\n",
       "      <th>es_home</th>\n",
       "      <td>248312.58</td>\n",
       "      <td>120.69</td>\n",
       "      <td>0.21</td>\n",
       "    </tr>\n",
       "    <tr>\n",
       "      <th>es_hotelservices</th>\n",
       "      <td>280138.55</td>\n",
       "      <td>172.76</td>\n",
       "      <td>0.55</td>\n",
       "    </tr>\n",
       "    <tr>\n",
       "      <th>es_hyper</th>\n",
       "      <td>244440.71</td>\n",
       "      <td>46.79</td>\n",
       "      <td>0.12</td>\n",
       "    </tr>\n",
       "    <tr>\n",
       "      <th>es_leisure</th>\n",
       "      <td>186541.31</td>\n",
       "      <td>229.76</td>\n",
       "      <td>1.00</td>\n",
       "    </tr>\n",
       "    <tr>\n",
       "      <th>es_otherservices</th>\n",
       "      <td>241279.00</td>\n",
       "      <td>149.65</td>\n",
       "      <td>0.60</td>\n",
       "    </tr>\n",
       "    <tr>\n",
       "      <th>es_sportsandtoys</th>\n",
       "      <td>238775.54</td>\n",
       "      <td>157.25</td>\n",
       "      <td>0.66</td>\n",
       "    </tr>\n",
       "    <tr>\n",
       "      <th>es_tech</th>\n",
       "      <td>310473.95</td>\n",
       "      <td>132.85</td>\n",
       "      <td>0.18</td>\n",
       "    </tr>\n",
       "    <tr>\n",
       "      <th>es_transportation</th>\n",
       "      <td>295733.88</td>\n",
       "      <td>27.42</td>\n",
       "      <td>0.00</td>\n",
       "    </tr>\n",
       "    <tr>\n",
       "      <th>es_travel</th>\n",
       "      <td>338897.78</td>\n",
       "      <td>231.82</td>\n",
       "      <td>0.94</td>\n",
       "    </tr>\n",
       "    <tr>\n",
       "      <th>es_wellnessandbeauty</th>\n",
       "      <td>275085.98</td>\n",
       "      <td>66.17</td>\n",
       "      <td>0.06</td>\n",
       "    </tr>\n",
       "  </tbody>\n",
       "</table>\n",
       "</div>"
      ],
      "text/plain": [
       "                       Unnamed: 0  amount  fraud\n",
       "category                                        \n",
       "es_barsandrestaurants   267372.71   43.84   0.02\n",
       "es_contents             335906.15   55.17   0.00\n",
       "es_fashion              286952.23   59.78   0.02\n",
       "es_food                 334978.98   35.22   0.00\n",
       "es_health               335355.18  126.60   0.24\n",
       "es_home                 248312.58  120.69   0.21\n",
       "es_hotelservices        280138.55  172.76   0.55\n",
       "es_hyper                244440.71   46.79   0.12\n",
       "es_leisure              186541.31  229.76   1.00\n",
       "es_otherservices        241279.00  149.65   0.60\n",
       "es_sportsandtoys        238775.54  157.25   0.66\n",
       "es_tech                 310473.95  132.85   0.18\n",
       "es_transportation       295733.88   27.42   0.00\n",
       "es_travel               338897.78  231.82   0.94\n",
       "es_wellnessandbeauty    275085.98   66.17   0.06"
      ]
     },
     "execution_count": 21,
     "metadata": {},
     "output_type": "execute_result"
    }
   ],
   "source": [
    "df3.groupby('category').mean(numeric_only = True).round(2)"
   ]
  },
  {
   "cell_type": "raw",
   "id": "a58e838e-ae89-4a36-9c58-8dc3d5c19bed",
   "metadata": {},
   "source": [
    "# Customer Segmentation"
   ]
  },
  {
   "cell_type": "code",
   "execution_count": 23,
   "id": "6861e542-097a-48f8-b098-242d1591573d",
   "metadata": {},
   "outputs": [
    {
     "data": {
      "text/html": [
       "<div>\n",
       "<style scoped>\n",
       "    .dataframe tbody tr th:only-of-type {\n",
       "        vertical-align: middle;\n",
       "    }\n",
       "\n",
       "    .dataframe tbody tr th {\n",
       "        vertical-align: top;\n",
       "    }\n",
       "\n",
       "    .dataframe thead th {\n",
       "        text-align: right;\n",
       "    }\n",
       "</style>\n",
       "<table border=\"1\" class=\"dataframe\">\n",
       "  <thead>\n",
       "    <tr style=\"text-align: right;\">\n",
       "      <th></th>\n",
       "      <th>Unnamed: 0</th>\n",
       "      <th>amount</th>\n",
       "      <th>fraud</th>\n",
       "    </tr>\n",
       "    <tr>\n",
       "      <th>age</th>\n",
       "      <th></th>\n",
       "      <th></th>\n",
       "      <th></th>\n",
       "    </tr>\n",
       "  </thead>\n",
       "  <tbody>\n",
       "    <tr>\n",
       "      <th>0</th>\n",
       "      <td>327520.45</td>\n",
       "      <td>49.47</td>\n",
       "      <td>0.05</td>\n",
       "    </tr>\n",
       "    <tr>\n",
       "      <th>1</th>\n",
       "      <td>290985.51</td>\n",
       "      <td>35.62</td>\n",
       "      <td>0.03</td>\n",
       "    </tr>\n",
       "    <tr>\n",
       "      <th>2</th>\n",
       "      <td>296867.96</td>\n",
       "      <td>37.23</td>\n",
       "      <td>0.03</td>\n",
       "    </tr>\n",
       "    <tr>\n",
       "      <th>3</th>\n",
       "      <td>291471.42</td>\n",
       "      <td>37.28</td>\n",
       "      <td>0.02</td>\n",
       "    </tr>\n",
       "    <tr>\n",
       "      <th>4</th>\n",
       "      <td>306041.40</td>\n",
       "      <td>36.20</td>\n",
       "      <td>0.04</td>\n",
       "    </tr>\n",
       "    <tr>\n",
       "      <th>5</th>\n",
       "      <td>290885.96</td>\n",
       "      <td>37.55</td>\n",
       "      <td>0.02</td>\n",
       "    </tr>\n",
       "    <tr>\n",
       "      <th>6</th>\n",
       "      <td>299193.72</td>\n",
       "      <td>36.70</td>\n",
       "      <td>0.02</td>\n",
       "    </tr>\n",
       "    <tr>\n",
       "      <th>U</th>\n",
       "      <td>288372.18</td>\n",
       "      <td>39.12</td>\n",
       "      <td>0.00</td>\n",
       "    </tr>\n",
       "  </tbody>\n",
       "</table>\n",
       "</div>"
      ],
      "text/plain": [
       "     Unnamed: 0  amount  fraud\n",
       "age                           \n",
       "0     327520.45   49.47   0.05\n",
       "1     290985.51   35.62   0.03\n",
       "2     296867.96   37.23   0.03\n",
       "3     291471.42   37.28   0.02\n",
       "4     306041.40   36.20   0.04\n",
       "5     290885.96   37.55   0.02\n",
       "6     299193.72   36.70   0.02\n",
       "U     288372.18   39.12   0.00"
      ]
     },
     "execution_count": 23,
     "metadata": {},
     "output_type": "execute_result"
    }
   ],
   "source": [
    "df3.groupby('age').mean(numeric_only = True).round(2)"
   ]
  },
  {
   "cell_type": "code",
   "execution_count": 25,
   "id": "41f02bd9-3d29-4c0f-8ef2-54df9780664b",
   "metadata": {},
   "outputs": [
    {
     "data": {
      "text/plain": [
       "age\n",
       "2    2333\n",
       "3    1718\n",
       "4    1279\n",
       "5     792\n",
       "1     713\n",
       "6     314\n",
       "0      40\n",
       "U      11\n",
       "Name: count, dtype: int64"
      ]
     },
     "execution_count": 25,
     "metadata": {},
     "output_type": "execute_result"
    }
   ],
   "source": [
    "df3['age'].value_counts()"
   ]
  },
  {
   "cell_type": "markdown",
   "id": "d22df93f-d81c-44e7-9ee3-81d3a87281e2",
   "metadata": {},
   "source": [
    "you can see the average amount spent as well as fraud occurrence is rather similar across groups. Age group '0' stands out but since there are only 40 cases, it does not make sense to split these out in a separate group and run a separate model on them."
   ]
  },
  {
   "cell_type": "raw",
   "id": "73e735ad-3bfd-4d15-82e8-dccc2f915bd0",
   "metadata": {},
   "source": [
    "# Using statistics to define normal behavior"
   ]
  },
  {
   "cell_type": "code",
   "execution_count": 32,
   "id": "89b6835c-837b-4901-9abc-26d63138519d",
   "metadata": {},
   "outputs": [],
   "source": [
    "# Creates 2 datasets with fraud and non-fraud data\n",
    "mask1 = df3['fraud'] == 1\n",
    "mask2 = df3['fraud'] == 0\n",
    "\n",
    "fraud = df3[mask1]\n",
    "non_fraud = df3[mask2]"
   ]
  },
  {
   "cell_type": "code",
   "execution_count": 46,
   "id": "fad2ffe7-c63b-4ff0-bb01-31aee64b5752",
   "metadata": {},
   "outputs": [
    {
     "data": {
      "image/png": "[encoded data removed]",
      "text/plain": [
       "<Figure size 640x480 with 1 Axes>"
      ]
     },
     "metadata": {},
     "output_type": "display_data"
    }
   ],
   "source": [
    "# Plot histograms of the amounts in the partitions\n",
    "\n",
    "plt.hist(\n",
    "    x = fraud['amount'],\n",
    "    alpha = 0.5,\n",
    "    label = 'Fraud',\n",
    "    bins = 100\n",
    ")\n",
    "\n",
    "plt.hist(\n",
    "    x = non_fraud['amount'],\n",
    "    alpha = 0.5,\n",
    "    label = 'Non fraud',\n",
    "    bins = 100\n",
    ")\n",
    "\n",
    "plt.legend()\n",
    "\n",
    "plt.show()"
   ]
  },
  {
   "cell_type": "markdown",
   "id": "7bd4e9da-76f3-4e25-ae5b-67f2fbf09cc4",
   "metadata": {},
   "source": [
    "As the number fraud observations is much smaller, it is difficult to see the full distribution. Nonetheless, you can see that the fraudulent transactions tend to be on the larger side relative to normal obervations. This is good news, as it helps us later in detecting fraud from non-fraud."
   ]
  },
  {
   "cell_type": "code",
   "execution_count": null,
   "id": "f03bfead-7b54-4b51-b873-f511df5c51f5",
   "metadata": {},
   "outputs": [],
   "source": []
  },
  {
   "cell_type": "code",
   "execution_count": null,
   "id": "6810ca70-d0ee-470a-a0bd-53924d79a4d1",
   "metadata": {},
   "outputs": [],
   "source": []
  },
  {
   "cell_type": "code",
   "execution_count": null,
   "id": "be308eb5-d571-42f2-90b5-28471054e467",
   "metadata": {},
   "outputs": [],
   "source": []
  },
  {
   "cell_type": "code",
   "execution_count": null,
   "id": "17d34853-2f27-4b23-a765-0eaafbba042e",
   "metadata": {},
   "outputs": [],
   "source": []
  },
  {
   "cell_type": "code",
   "execution_count": null,
   "id": "e4667ed1-c834-4254-97b7-4cae8628d233",
   "metadata": {},
   "outputs": [],
   "source": []
  },
  {
   "cell_type": "code",
   "execution_count": null,
   "id": "9d1e1c04-21c4-4458-8aed-4bd7b3f24d30",
   "metadata": {},
   "outputs": [],
   "source": []
  },
  {
   "cell_type": "code",
   "execution_count": null,
   "id": "5759108d-45b7-4ef4-8591-6d57a3920066",
   "metadata": {},
   "outputs": [],
   "source": []
  },
  {
   "cell_type": "code",
   "execution_count": null,
   "id": "b68f5881-ff45-4f34-8e01-d4c5e80431e1",
   "metadata": {},
   "outputs": [],
   "source": []
  },
  {
   "cell_type": "code",
   "execution_count": null,
   "id": "0dfa7aff-db95-4ce3-b642-93d1386f3155",
   "metadata": {},
   "outputs": [],
   "source": []
  },
  {
   "cell_type": "code",
   "execution_count": null,
   "id": "12046c02-c783-4157-b8da-7f55a321819a",
   "metadata": {},
   "outputs": [],
   "source": []
  },
  {
   "cell_type": "code",
   "execution_count": null,
   "id": "eaebb4b1-fda5-4224-a082-39183154180e",
   "metadata": {},
   "outputs": [],
   "source": []
  },
  {
   "cell_type": "code",
   "execution_count": null,
   "id": "46180456-5109-4de0-96af-7ce18a8ff2fa",
   "metadata": {},
   "outputs": [],
   "source": []
  }
 ],
 "metadata": {
  "kernelspec": {
   "display_name": "Python 3 (ipykernel)",
   "language": "python",
   "name": "python3"
  },
  "language_info": {
   "codemirror_mode": {
    "name": "ipython",
    "version": 3
   },
   "file_extension": ".py",
   "mimetype": "text/x-python",
   "name": "python",
   "nbconvert_exporter": "python",
   "pygments_lexer": "ipython3",
   "version": "3.13.0"
  }
 },
 "nbformat": 4,
 "nbformat_minor": 5
}
